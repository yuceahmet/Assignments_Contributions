{
  "nbformat": 4,
  "nbformat_minor": 0,
  "metadata": {
    "colab": {
      "name": "ÇALIŞMA_DOSYASI_2.ipynb",
      "provenance": [],
      "authorship_tag": "ABX9TyNeY3Y9J5mWqwxlq9KuvSno",
      "include_colab_link": true
    },
    "kernelspec": {
      "name": "python3",
      "display_name": "Python 3"
    },
    "language_info": {
      "name": "python"
    }
  },
  "cells": [
    {
      "cell_type": "markdown",
      "metadata": {
        "id": "view-in-github",
        "colab_type": "text"
      },
      "source": [
        "<a href=\"https://colab.research.google.com/github/yuceahmet/Assignments_Contributions/blob/main/%C3%87ALI%C5%9EMA_DOSYASI_2.ipynb\" target=\"_parent\"><img src=\"https://colab.research.google.com/assets/colab-badge.svg\" alt=\"Open In Colab\"/></a>"
      ]
    },
    {
      "cell_type": "code",
      "metadata": {
        "colab": {
          "base_uri": "https://localhost:8080/"
        },
        "id": "wtHmxFqg1vBw",
        "outputId": "68c04f86-76f9-47e8-bc4f-cd34b8ecf8a8"
      },
      "source": [
        "sentence = input(\"Enter a sentence : \").lower()\n",
        "letters_dict = {}\n",
        "for i in sentence:\n",
        "    values = 0\n",
        "    keys = i\n",
        "    values = sentence.count(i)\n",
        "    letters_dict[keys] = x\n",
        "letters_dict"
      ],
      "execution_count": null,
      "outputs": [
        {
          "output_type": "stream",
          "text": [
            "Enter a sentence : acayip bir şey yahu\n"
          ],
          "name": "stdout"
        },
        {
          "output_type": "execute_result",
          "data": {
            "text/plain": [
              "{' ': 1,\n",
              " 'a': 1,\n",
              " 'b': 1,\n",
              " 'c': 1,\n",
              " 'e': 1,\n",
              " 'h': 1,\n",
              " 'i': 1,\n",
              " 'p': 1,\n",
              " 'r': 1,\n",
              " 'u': 1,\n",
              " 'y': 1,\n",
              " 'ş': 1}"
            ]
          },
          "metadata": {},
          "execution_count": 5
        }
      ]
    },
    {
      "cell_type": "code",
      "metadata": {
        "colab": {
          "base_uri": "https://localhost:8080/"
        },
        "id": "tUSwn2cp1wYq",
        "outputId": "f7d19126-5a8f-4b78-9cb2-a510d9b76d13"
      },
      "source": [
        "text = input(\"Enter a sentence:\")\n",
        "def count(text):\n",
        "    dict = {}\n",
        "    for n in text:\n",
        "        keys = dict.keys()\n",
        "        if n in keys:\n",
        "            dict[n] += 1\n",
        "        else:\n",
        "            dict[n] = 1\n",
        "    return dict\n",
        "print(count(text))"
      ],
      "execution_count": null,
      "outputs": [
        {
          "output_type": "stream",
          "text": [
            "Enter a sentence:I don't like to play with words.\n",
            "{'I': 1, ' ': 6, 'd': 2, 'o': 3, 'n': 1, \"'\": 1, 't': 3, 'l': 2, 'i': 2, 'k': 1, 'e': 1, 'p': 1, 'a': 1, 'y': 1, 'w': 2, 'h': 1, 'r': 1, 's': 1, '.': 1}\n"
          ],
          "name": "stdout"
        }
      ]
    },
    {
      "cell_type": "code",
      "metadata": {
        "id": "DCVmNPuVnFfT"
      },
      "source": [
        "Given a collection of distinct integers, return all possible permutations.\n",
        "Example:\n",
        "Input:\n",
        "[1,2,3]\n",
        "Output:\n",
        "[\n",
        "  [1,2,3],\n",
        "  [1,3,2],\n",
        "  [2,1,3],\n",
        "  [2,3,1],\n",
        "  [3,1,2],\n",
        "  [3,2,1]\n",
        "]"
      ],
      "execution_count": null,
      "outputs": []
    }
  ]
}