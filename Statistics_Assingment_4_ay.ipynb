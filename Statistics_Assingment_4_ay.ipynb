{
 "cells": [
  {
   "cell_type": "code",
   "execution_count": 3,
   "metadata": {
    "id": "57er0BO2kz0j"
   },
   "outputs": [],
   "source": [
    "import numpy as np\n",
    "import scipy.stats as stats\n",
    "import matplotlib.pyplot as plt"
   ]
  },
  {
   "cell_type": "markdown",
   "metadata": {
    "id": "rUdAha0yZI3_"
   },
   "source": [
    "EXERCISE 1.1  A salesperson has found that the probability of a sale on a single contact is approximately .3. If the salesperson contacts 10 prospects, what is the approximate probability of making at least one sale?"
   ]
  },
  {
   "cell_type": "code",
   "execution_count": 13,
   "metadata": {
    "colab": {
     "base_uri": "https://localhost:8080/"
    },
    "id": "8JH4WOd4k1ru",
    "outputId": "bb277357-29cc-48f4-ffcd-601b4588a1a7"
   },
   "outputs": [
    {
     "data": {
      "text/plain": [
       "0.9717524751000001"
      ]
     },
     "execution_count": 13,
     "metadata": {},
     "output_type": "execute_result"
    }
   ],
   "source": [
    "p = 0.3\n",
    "n = 10\n",
    "# P(X≥1) = 1-P(X=0)\n",
    "P = 1 - stats.binom.pmf(0, n, p)\n",
    "P = 1 - stats.binom.cdf(0, n, p)\n",
    "P"
   ]
  },
  {
   "cell_type": "markdown",
   "metadata": {},
   "source": [
    "EXERCISE 1.2  Ten coins are tossed simultaneously. Find the probability of getting\n",
    "(i) at least seven heads\n",
    "(ii) exactly seven heads\n",
    "(iii)at most seven heads"
   ]
  },
  {
   "cell_type": "code",
   "execution_count": 19,
   "metadata": {
    "colab": {
     "base_uri": "https://localhost:8080/"
    },
    "id": "AtXL6s8ik1pA",
    "outputId": "d9bfd569-b593-4068-b5a5-25b24bb8c661"
   },
   "outputs": [
    {
     "data": {
      "text/plain": [
       "0.171875"
      ]
     },
     "execution_count": 19,
     "metadata": {},
     "output_type": "execute_result"
    }
   ],
   "source": [
    "# at least 7 head\n",
    "# P(X≥7) = 1-P(X≤6)                P = 1 - stats.binom.cdf(x-1, n, p)\n",
    "p = 0.5\n",
    "n = 10\n",
    "P = 1 - stats.binom.cdf(6, n, p)   # a = stats.binom(n, p)  P = 1 - a.cdf(6)  \n",
    "P"
   ]
  },
  {
   "cell_type": "code",
   "execution_count": 21,
   "metadata": {
    "colab": {
     "base_uri": "https://localhost:8080/"
    },
    "id": "7RiDP2SMk1mg",
    "outputId": "9c320608-fe4f-47e5-8a98-e1c077dc3759"
   },
   "outputs": [
    {
     "data": {
      "text/plain": [
       "0.11718750000000014"
      ]
     },
     "execution_count": 21,
     "metadata": {},
     "output_type": "execute_result"
    }
   ],
   "source": [
    "# exactly 7 heads\n",
    "# P(X=7)\n",
    "p = 0.5\n",
    "n = 10\n",
    "P = stats.binom.pmf(7, n, p)\n",
    "P"
   ]
  },
  {
   "cell_type": "code",
   "execution_count": 23,
   "metadata": {
    "colab": {
     "base_uri": "https://localhost:8080/"
    },
    "id": "pLhu_9dAk1jn",
    "outputId": "20a354ef-a045-4598-d871-db3ef1f6d16a"
   },
   "outputs": [
    {
     "data": {
      "text/plain": [
       "0.9453125"
      ]
     },
     "execution_count": 23,
     "metadata": {},
     "output_type": "execute_result"
    }
   ],
   "source": [
    "# at most seven heads\n",
    "# P(X≤7)=1−P(X>7)=1-(P(8)+P(9)+P(10))      P = stats.binom.cdf(x,n,p)\n",
    "p = 0.5\n",
    "n = 10\n",
    "P = stats.binom.cdf(7,n,p)           # a = stats.binom(n, p)   P = a.cdf(7)\n",
    "P"
   ]
  },
  {
   "cell_type": "markdown",
   "metadata": {
    "id": "pQwXnA1QshIg"
   },
   "source": [
    "EXERCISE 2- The cycle time for trucks hauling concrete to a highway construction site is uniformly distributed over the interval 50 to 70 minutes. What is the probability that the cycle time exceeds 65 minutes  if it is known that the cycle time exceeds 55 minutes? "
   ]
  },
  {
   "cell_type": "code",
   "execution_count": 24,
   "metadata": {
    "colab": {
     "base_uri": "https://localhost:8080/"
    },
    "id": "sm-n1Fpak1gj",
    "outputId": "f9001d0e-8a69-4221-d9ab-20614379117f"
   },
   "outputs": [
    {
     "data": {
      "text/plain": [
       "0.3333333333333333"
      ]
     },
     "execution_count": 24,
     "metadata": {},
     "output_type": "execute_result"
    }
   ],
   "source": [
    "a =stats.uniform(50, 20)\n",
    "P = (1- a.cdf(65))/(1-a.cdf(55))\n",
    "P"
   ]
  },
  {
   "cell_type": "markdown",
   "metadata": {
    "id": "fPTuJTnCtwla"
   },
   "source": [
    "EXERCISE 3. \n",
    "1- The width of bolts of fabric is normally distributed with mean 950 mm (millimeters) and standard deviation 10 mm.\n",
    "What is the probability that a randomly chosen bolt has a width of between 947 and 958mm?\n"
   ]
  },
  {
   "cell_type": "code",
   "execution_count": 25,
   "metadata": {
    "colab": {
     "base_uri": "https://localhost:8080/"
    },
    "id": "mJ6inw3bk1LH",
    "outputId": "f1f30260-756a-412b-e5d5-fbfaf8ddfebf"
   },
   "outputs": [
    {
     "data": {
      "text/plain": [
       "0.406056023605556"
      ]
     },
     "execution_count": 25,
     "metadata": {},
     "output_type": "execute_result"
    }
   ],
   "source": [
    "mean = 950\n",
    "std = 10\n",
    "a = stats.norm(950, 10)\n",
    "P = a.cdf(958) - a.cdf(947)\n",
    "P"
   ]
  },
  {
   "cell_type": "markdown",
   "metadata": {
    "id": "9HM4kiHEunYp"
   },
   "source": [
    "3.2-What is the appropriate value for C such that a randomly chosen bolt has a width less than C with probability .8531?"
   ]
  },
  {
   "cell_type": "code",
   "execution_count": 26,
   "metadata": {
    "colab": {
     "base_uri": "https://localhost:8080/"
    },
    "id": "zzUtLT_QujJQ",
    "outputId": "70e991c4-93ba-4f5d-e9ed-7bf001760473"
   },
   "outputs": [
    {
     "data": {
      "text/plain": [
       "960.4982190962642"
      ]
     },
     "execution_count": 26,
     "metadata": {},
     "output_type": "execute_result"
    }
   ],
   "source": [
    "P = a.ppf(0.8531)\n",
    "P"
   ]
  },
  {
   "cell_type": "markdown",
   "metadata": {
    "id": "ehuwGCpLvMkS"
   },
   "source": [
    "EXERCISE 4. \n",
    "Suppose scores on exams in statistics are normally distributed with an unknown population mean and a population standard deviation of 3 points. A random sample of 36 scores is taken and gives a sample mean (sample mean score) of 68. Find a confidence interval estimate for the population mean exam score (the mean score on all exams). Find a 90% confidence interval for the true (population) mean of statistics exam scores.\n"
   ]
  },
  {
   "cell_type": "code",
   "execution_count": 29,
   "metadata": {
    "colab": {
     "base_uri": "https://localhost:8080/"
    },
    "id": "H9lRWaB4vDCf",
    "outputId": "29156ad6-0074-40eb-c002-268d50e0a540"
   },
   "outputs": [
    {
     "data": {
      "text/plain": [
       "(67.17757318652427, 68.82242681347573)"
      ]
     },
     "execution_count": 29,
     "metadata": {},
     "output_type": "execute_result"
    }
   ],
   "source": [
    "# sem = std/np.sqrt(n)\n",
    "mean_score_int = stats.norm.interval(0.9, 68, 3/36**0.5)\n",
    "mean_score_int\n",
    "\n",
    "# We estimate with 90% confidence that \n",
    "# the true population mean exam score for all statistics students is between 67.18 and 68.82."
   ]
  },
  {
   "cell_type": "markdown",
   "metadata": {
    "id": "7ZLIxgEfz6D2"
   },
   "source": [
    "EXERCISE 5  \n",
    "What is the normal body temperature for healthy humans? A random sample of 130 healthy human body temperatures provided by Allen Shoemaker yielded 98.25 degrees and standard deviation 0.73 degrees.\n",
    "Give a 99% confidence interval for the average body temperature of healthy people.\n"
   ]
  },
  {
   "cell_type": "code",
   "execution_count": 31,
   "metadata": {
    "colab": {
     "base_uri": "https://localhost:8080/"
    },
    "id": "7R7vOcoE0DfL",
    "outputId": "cbacb781-1f0a-4afd-e544-b9835c32d9c7"
   },
   "outputs": [
    {
     "data": {
      "text/plain": [
       "(98.08508192246582, 98.41491807753418)"
      ]
     },
     "execution_count": 31,
     "metadata": {},
     "output_type": "execute_result"
    }
   ],
   "source": [
    "temp_int = stats.norm.interval(0.99, 98.25, 0.73/np.sqrt(130))\n",
    "temp_int"
   ]
  }
 ],
 "metadata": {
  "colab": {
   "name": "Assigment_4.ipynb",
   "provenance": []
  },
  "kernelspec": {
   "display_name": "Python 3 (ipykernel)",
   "language": "python",
   "name": "python3"
  },
  "language_info": {
   "codemirror_mode": {
    "name": "ipython",
    "version": 3
   },
   "file_extension": ".py",
   "mimetype": "text/x-python",
   "name": "python",
   "nbconvert_exporter": "python",
   "pygments_lexer": "ipython3",
   "version": "3.8.8"
  },
  "toc": {
   "base_numbering": 1,
   "nav_menu": {},
   "number_sections": true,
   "sideBar": true,
   "skip_h1_title": false,
   "title_cell": "Table of Contents",
   "title_sidebar": "Contents",
   "toc_cell": false,
   "toc_position": {},
   "toc_section_display": true,
   "toc_window_display": false
  }
 },
 "nbformat": 4,
 "nbformat_minor": 1
}
